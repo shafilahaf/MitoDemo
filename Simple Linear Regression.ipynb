{
 "cells": [
  {
   "cell_type": "code",
   "execution_count": 1,
   "metadata": {},
   "outputs": [
    {
     "data": {
      "application/vnd.jupyter.widget-view+json": {
       "model_id": "ec91a8a1f9934eb9b41ae84e7fa2a551",
       "version_major": 2,
       "version_minor": 0
      },
      "text/plain": [
       "MitoWidget(analysis_name='UUID-27f4cfde-100d-483c-8326-c7fb724ffc2a', code_json='{\"imports\": \"from mitosheet i…"
      ]
     },
     "metadata": {},
     "output_type": "display_data"
    }
   ],
   "source": [
    "import mitosheet\n",
    "mitosheet.sheet()"
   ]
  },
  {
   "cell_type": "markdown",
   "metadata": {},
   "source": [
    "## Change Datatypes and Drop Column\n",
    "\n",
    "Delete Column = click Del Col  \n",
    "Change Datatype = click the column -> Filter/Sort (Dtype) "
   ]
  },
  {
   "cell_type": "code",
   "execution_count": 29,
   "metadata": {},
   "outputs": [],
   "source": [
    "# MITO CODE START (DO NOT EDIT)\n",
    "\n",
    "from mitosheet import * # Import necessary functions from Mito\n",
    "register_analysis('UUID-27f4cfde-100d-483c-8326-c7fb724ffc2a') # Let Mito know which analysis is being run\n",
    "\n",
    "# Imported C:\\Shafilah\\Project\\DataSlicing\\data.csv\n",
    "import pandas as pd\n",
    "data_csv = pd.read_csv(r'C:\\Shafilah\\Project\\DataSlicing\\data.csv')\n",
    "\n",
    "# Changed date from object to datetime\n",
    "data_csv['date'] = pd.to_datetime(data_csv['date'], infer_datetime_format=True, errors='coerce')\n",
    "\n",
    "# Changed bedrooms from float64 to int\n",
    "data_csv['bedrooms'] = data_csv['bedrooms'].astype('int')\n",
    "\n",
    "# Changed bathrooms from float64 to int\n",
    "data_csv['bathrooms'] = data_csv['bathrooms'].astype('int')\n",
    "\n",
    "# Changed floors from float64 to int\n",
    "data_csv['floors'] = data_csv['floors'].astype('int')\n",
    "\n",
    "# Deleted column date from data_csv\n",
    "data_csv.drop('date', axis=1, inplace=True)\n",
    "\n",
    "# Deleted column country from data_csv\n",
    "data_csv.drop('country', axis=1, inplace=True)\n",
    "\n",
    "# Deleted column statezip from data_csv\n",
    "data_csv.drop('statezip', axis=1, inplace=True)\n",
    "\n",
    "# Deleted column city from data_csv\n",
    "data_csv.drop('city', axis=1, inplace=True)\n",
    "\n",
    "# Deleted column street from data_csv\n",
    "data_csv.drop('street', axis=1, inplace=True)\n",
    "\n",
    "  \n",
    "# MITO CODE END (DO NOT EDIT)"
   ]
  },
  {
   "cell_type": "code",
   "execution_count": 30,
   "metadata": {},
   "outputs": [
    {
     "data": {
      "application/vnd.jupyter.widget-view+json": {
       "model_id": "0d997aacd826439b8704bd8998756e8a",
       "version_major": 2,
       "version_minor": 0
      },
      "text/plain": [
       "MitoWidget(analysis_name='UUID-f92af498-d146-4587-b89a-c641eda36c9f', code_json='{\"imports\": \"from mitosheet i…"
      ]
     },
     "metadata": {},
     "output_type": "display_data"
    }
   ],
   "source": [
    "mitosheet.sheet(data_csv)"
   ]
  },
  {
   "cell_type": "code",
   "execution_count": 31,
   "metadata": {},
   "outputs": [
    {
     "data": {
      "text/plain": [
       "price            float64\n",
       "bedrooms           int32\n",
       "bathrooms          int32\n",
       "sqft_living        int64\n",
       "sqft_lot           int64\n",
       "floors             int32\n",
       "waterfront         int64\n",
       "view               int64\n",
       "condition          int64\n",
       "sqft_above         int64\n",
       "sqft_basement      int64\n",
       "yr_built           int64\n",
       "yr_renovated       int64\n",
       "dtype: object"
      ]
     },
     "execution_count": 31,
     "metadata": {},
     "output_type": "execute_result"
    }
   ],
   "source": [
    "data_csv.dtypes"
   ]
  },
  {
   "cell_type": "markdown",
   "metadata": {},
   "source": [
    "## Prepare Data"
   ]
  },
  {
   "cell_type": "code",
   "execution_count": 32,
   "metadata": {},
   "outputs": [
    {
     "data": {
      "text/plain": [
       "0"
      ]
     },
     "execution_count": 32,
     "metadata": {},
     "output_type": "execute_result"
    }
   ],
   "source": [
    "data_csv.isnull().sum().sum()"
   ]
  },
  {
   "cell_type": "code",
   "execution_count": 33,
   "metadata": {},
   "outputs": [],
   "source": [
    "y = data_csv.price.values\n",
    "\n",
    "X = data_csv.drop('price', axis=1)"
   ]
  },
  {
   "cell_type": "code",
   "execution_count": 34,
   "metadata": {},
   "outputs": [],
   "source": [
    "# Splitting Data (Train and Test)\n",
    "\n",
    "from sklearn.model_selection import train_test_split\n",
    "\n",
    "\n",
    "X_train, X_test, y_train, y_test = train_test_split(X, y, test_size=0.2, random_state=42)"
   ]
  },
  {
   "cell_type": "code",
   "execution_count": 35,
   "metadata": {},
   "outputs": [
    {
     "data": {
      "text/plain": [
       "(3680, 920, 3680, 920)"
      ]
     },
     "execution_count": 35,
     "metadata": {},
     "output_type": "execute_result"
    }
   ],
   "source": [
    "len(X_train), len(X_test), len(y_train), len(y_test)"
   ]
  },
  {
   "cell_type": "code",
   "execution_count": 36,
   "metadata": {},
   "outputs": [],
   "source": [
    "# Scaling Data with StandardScaler\n",
    "\n",
    "from sklearn.preprocessing import StandardScaler\n",
    "\n",
    "scaler = StandardScaler()\n",
    "\n",
    "X_train = scaler.fit_transform(X_train)\n",
    "X_test = scaler.fit_transform(X_test)"
   ]
  },
  {
   "cell_type": "markdown",
   "metadata": {},
   "source": [
    "## Simple Linear Regression"
   ]
  },
  {
   "cell_type": "code",
   "execution_count": 43,
   "metadata": {},
   "outputs": [
    {
     "name": "stdout",
     "output_type": "stream",
     "text": [
      "Training Accuracy :  0.5437017449939405\n",
      "Test Accuracy :  0.0333516264423559\n"
     ]
    }
   ],
   "source": [
    "from sklearn.linear_model import LinearRegression\n",
    "\n",
    "lin_reg = LinearRegression()\n",
    "lin_reg.fit(X_train, y_train)\n",
    "\n",
    "print('Training Accuracy : ', lin_reg.score(X_train, y_train))\n",
    "print('Test Accuracy : ', lin_reg.score(X_test, y_test))"
   ]
  }
 ],
 "metadata": {
  "kernelspec": {
   "display_name": "Python 3",
   "language": "python",
   "name": "python3"
  },
  "language_info": {
   "codemirror_mode": {
    "name": "ipython",
    "version": 3
   },
   "file_extension": ".py",
   "mimetype": "text/x-python",
   "name": "python",
   "nbconvert_exporter": "python",
   "pygments_lexer": "ipython3",
   "version": "3.8.5"
  }
 },
 "nbformat": 4,
 "nbformat_minor": 4
}
